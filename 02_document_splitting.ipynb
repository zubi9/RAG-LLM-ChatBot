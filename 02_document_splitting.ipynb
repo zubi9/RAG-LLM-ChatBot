{
 "cells": [
  {
   "cell_type": "markdown",
   "id": "bafb515b",
   "metadata": {},
   "source": [
    "# Document Splitting"
   ]
  },
  {
   "cell_type": "markdown",
   "id": "bf6bf0cb-6897-47bc-b5b0-acbe107942f0",
   "metadata": {},
   "source": [
    "##### Access api from .env file"
   ]
  },
  {
   "cell_type": "code",
   "execution_count": 75,
   "id": "a978680b-fbd5-4b93-8ceb-644ae1348a34",
   "metadata": {},
   "outputs": [],
   "source": [
    "# %set_env OPENAI_API_KEY  = 'your_openai_api_key'"
   ]
  },
  {
   "cell_type": "code",
   "execution_count": 2,
   "id": "1f9ad2a1-2c8e-471e-8174-338cf2e3e92d",
   "metadata": {
    "tags": []
   },
   "outputs": [],
   "source": [
    "# import os\n",
    "# import openai\n",
    "# import sys\n",
    "# sys.path.append('../..')\n",
    "\n",
    "# from dotenv import load_dotenv, find_dotenv\n",
    "# _ = load_dotenv(find_dotenv()) # read local .env file\n",
    "\n",
    "# openai.api_key  = os.environ['OPENAI_API_KEY']"
   ]
  },
  {
   "cell_type": "code",
   "execution_count": 20,
   "id": "b0e508a4-9cc2-458f-aa12-01d5483e3d39",
   "metadata": {},
   "outputs": [],
   "source": [
    "import os\n",
    "from openai import OpenAI\n",
    "from dotenv import load_dotenv\n",
    "\n",
    "load_dotenv()\n",
    "\n",
    "client = OpenAI(\n",
    "    api_key=os.environ.get(\"OPENAI_API_KEY\"),)"
   ]
  },
  {
   "cell_type": "code",
   "execution_count": 21,
   "id": "06ea702c",
   "metadata": {
    "tags": []
   },
   "outputs": [],
   "source": [
    "from langchain.text_splitter import RecursiveCharacterTextSplitter, CharacterTextSplitter"
   ]
  },
  {
   "cell_type": "markdown",
   "id": "c1a4d0ed",
   "metadata": {},
   "source": [
    "## Recursive splitting details\n",
    "\n",
    "`RecursiveCharacterTextSplitter` is recommended for generic text. "
   ]
  },
  {
   "cell_type": "code",
   "execution_count": 32,
   "id": "96926a42-92e6-4ad4-9946-908a075fb32d",
   "metadata": {
    "tags": []
   },
   "outputs": [],
   "source": [
    "some_text = \"\"\"When writing documents, writers will use document structure to group content. \\\n",
    "This can convey to the reader, which idea's are related. For example, closely related ideas \\\n",
    "are in sentances. Similar ideas are in paragraphs. Paragraphs form a document. \\n\\n  \\\n",
    "Paragraphs are often delimited with a carriage return or two carriage returns. \\\n",
    "Carriage returns are the \"backslash n\" you see embedded in this string. \\\n",
    "Sentences have a period at the end, but also, have a space.\\\n",
    "and words are separated by space.\"\"\""
   ]
  },
  {
   "cell_type": "code",
   "execution_count": 33,
   "id": "18706d73",
   "metadata": {
    "tags": []
   },
   "outputs": [
    {
     "data": {
      "text/plain": [
       "496"
      ]
     },
     "execution_count": 33,
     "metadata": {},
     "output_type": "execute_result"
    }
   ],
   "source": [
    "len(some_text)"
   ]
  },
  {
   "cell_type": "code",
   "execution_count": 34,
   "id": "5083a172-ba0a-4d9f-b561-18f0d2e6d9ce",
   "metadata": {
    "tags": []
   },
   "outputs": [],
   "source": [
    "c_splitter = CharacterTextSplitter(\n",
    "    chunk_size=450,\n",
    "    chunk_overlap=0,\n",
    "    separator = ' '\n",
    ")\n",
    "r_splitter = RecursiveCharacterTextSplitter(\n",
    "    chunk_size=450,\n",
    "    chunk_overlap=0, \n",
    "    separators=[\"\\n\\n\", \"\\n\", \" \", \"\"]\n",
    ")"
   ]
  },
  {
   "cell_type": "code",
   "execution_count": 35,
   "id": "7f8aa4ed-5347-4819-b3c1-d15696832a65",
   "metadata": {
    "tags": []
   },
   "outputs": [
    {
     "data": {
      "text/plain": [
       "['When writing documents, writers will use document structure to group content. This can convey to the reader, which idea\\'s are related. For example, closely related ideas are in sentances. Similar ideas are in paragraphs. Paragraphs form a document. \\n\\n Paragraphs are often delimited with a carriage return or two carriage returns. Carriage returns are the \"backslash n\" you see embedded in this string. Sentences have a period at the end, but also,',\n",
       " 'have a space.and words are separated by space.']"
      ]
     },
     "execution_count": 35,
     "metadata": {},
     "output_type": "execute_result"
    }
   ],
   "source": [
    "c_splitter.split_text(some_text)"
   ]
  },
  {
   "cell_type": "code",
   "execution_count": 36,
   "id": "6af907f2-4110-4e40-a831-593f8592bd83",
   "metadata": {
    "tags": []
   },
   "outputs": [
    {
     "data": {
      "text/plain": [
       "[\"When writing documents, writers will use document structure to group content. This can convey to the reader, which idea's are related. For example, closely related ideas are in sentances. Similar ideas are in paragraphs. Paragraphs form a document.\",\n",
       " 'Paragraphs are often delimited with a carriage return or two carriage returns. Carriage returns are the \"backslash n\" you see embedded in this string. Sentences have a period at the end, but also, have a space.and words are separated by space.']"
      ]
     },
     "execution_count": 36,
     "metadata": {},
     "output_type": "execute_result"
    }
   ],
   "source": [
    "r_splitter.split_text(some_text)"
   ]
  },
  {
   "cell_type": "markdown",
   "id": "3b3720ef-2a97-4e0f-a2da-660b274b2f00",
   "metadata": {
    "tags": []
   },
   "source": [
    "Let's reduce the chunk size a bit and add a period to our separators:"
   ]
  },
  {
   "cell_type": "code",
   "execution_count": 37,
   "id": "1e5496ea-d34e-4ed9-8f68-9dadd86e8da7",
   "metadata": {
    "tags": []
   },
   "outputs": [
    {
     "data": {
      "text/plain": [
       "[\"When writing documents, writers will use document structure to group content. This can convey to the reader, which idea's are related. For example,\",\n",
       " 'closely related ideas are in sentances. Similar ideas are in paragraphs. Paragraphs form a document.',\n",
       " 'Paragraphs are often delimited with a carriage return or two carriage returns. Carriage returns are the \"backslash n\" you see embedded in this',\n",
       " 'string. Sentences have a period at the end, but also, have a space.and words are separated by space.']"
      ]
     },
     "execution_count": 37,
     "metadata": {},
     "output_type": "execute_result"
    }
   ],
   "source": [
    "r_splitter = RecursiveCharacterTextSplitter(\n",
    "    chunk_size=150,\n",
    "    chunk_overlap=0,\n",
    "    separators=[\"\\n\\n\", \"\\n\", \"\\. \", \" \", \"\"]\n",
    ")\n",
    "r_splitter.split_text(some_text)"
   ]
  },
  {
   "cell_type": "code",
   "execution_count": 38,
   "id": "31da7561",
   "metadata": {
    "tags": []
   },
   "outputs": [
    {
     "data": {
      "text/plain": [
       "[\"When writing documents, writers will use document structure to group content. This can convey to the reader, which idea's are related. For example,\",\n",
       " 'closely related ideas are in sentances. Similar ideas are in paragraphs. Paragraphs form a document.',\n",
       " 'Paragraphs are often delimited with a carriage return or two carriage returns. Carriage returns are the \"backslash n\" you see embedded in this',\n",
       " 'string. Sentences have a period at the end, but also, have a space.and words are separated by space.']"
      ]
     },
     "execution_count": 38,
     "metadata": {},
     "output_type": "execute_result"
    }
   ],
   "source": [
    "r_splitter = RecursiveCharacterTextSplitter(\n",
    "    chunk_size=150,\n",
    "    chunk_overlap=0,\n",
    "    separators=[\"\\n\\n\", \"\\n\", \"(?<=\\. )\", \" \", \"\"]\n",
    ")\n",
    "r_splitter.split_text(some_text)"
   ]
  },
  {
   "cell_type": "code",
   "execution_count": 39,
   "id": "a469e07d",
   "metadata": {
    "tags": []
   },
   "outputs": [],
   "source": [
    "from langchain.document_loaders import PyPDFLoader\n",
    "loader = PyPDFLoader(\"docs/cs229_lectures/MachineLearning-Lecture01.pdf\")\n",
    "pages = loader.load()"
   ]
  },
  {
   "cell_type": "code",
   "execution_count": 40,
   "id": "bba6f05d",
   "metadata": {
    "tags": []
   },
   "outputs": [],
   "source": [
    "from langchain.text_splitter import CharacterTextSplitter\n",
    "text_splitter = CharacterTextSplitter(\n",
    "    separator=\"\\n\",\n",
    "    chunk_size=1000,\n",
    "    chunk_overlap=150,\n",
    "    length_function=len\n",
    ")"
   ]
  },
  {
   "cell_type": "code",
   "execution_count": 41,
   "id": "c752a663-896b-4a24-9ffb-7640642b7a3f",
   "metadata": {
    "tags": []
   },
   "outputs": [],
   "source": [
    "docs = text_splitter.split_documents(pages)"
   ]
  },
  {
   "cell_type": "code",
   "execution_count": 42,
   "id": "7474a52c",
   "metadata": {
    "tags": []
   },
   "outputs": [
    {
     "data": {
      "text/plain": [
       "77"
      ]
     },
     "execution_count": 42,
     "metadata": {},
     "output_type": "execute_result"
    }
   ],
   "source": [
    "len(docs)"
   ]
  },
  {
   "cell_type": "code",
   "execution_count": 46,
   "id": "d16046b2",
   "metadata": {
    "tags": []
   },
   "outputs": [
    {
     "data": {
      "text/plain": [
       "22"
      ]
     },
     "execution_count": 46,
     "metadata": {},
     "output_type": "execute_result"
    }
   ],
   "source": [
    "len(pages)"
   ]
  },
  {
   "cell_type": "code",
   "execution_count": null,
   "id": "1fd3a3b9-b52d-4a25-afe1-b934f8905f29",
   "metadata": {},
   "outputs": [],
   "source": []
  },
  {
   "cell_type": "code",
   "execution_count": 51,
   "id": "3a9e741c",
   "metadata": {
    "tags": []
   },
   "outputs": [],
   "source": [
    "from langchain.document_loaders import NotionDirectoryLoader\n",
    "loader = NotionDirectoryLoader(\"docs/notiondb\")\n",
    "notion_db = loader.load()"
   ]
  },
  {
   "cell_type": "code",
   "execution_count": 52,
   "id": "d30861d0-4370-49c1-a6fc-a924f9a171ee",
   "metadata": {
    "tags": []
   },
   "outputs": [],
   "source": [
    "docs = text_splitter.split_documents(notion_db)"
   ]
  },
  {
   "cell_type": "code",
   "execution_count": 53,
   "id": "39a59ff8",
   "metadata": {
    "tags": []
   },
   "outputs": [
    {
     "data": {
      "text/plain": [
       "1"
      ]
     },
     "execution_count": 53,
     "metadata": {},
     "output_type": "execute_result"
    }
   ],
   "source": [
    "len(notion_db)"
   ]
  },
  {
   "cell_type": "code",
   "execution_count": 54,
   "id": "73411cbd",
   "metadata": {
    "tags": []
   },
   "outputs": [
    {
     "data": {
      "text/plain": [
       "21"
      ]
     },
     "execution_count": 54,
     "metadata": {},
     "output_type": "execute_result"
    }
   ],
   "source": [
    "len(docs)"
   ]
  },
  {
   "cell_type": "markdown",
   "id": "68f720db",
   "metadata": {},
   "source": [
    "## Token splitting\n",
    "\n",
    "We can also split on token count explicity, if we want.\n",
    "\n",
    "This can be useful because LLMs often have context windows designated in tokens.\n",
    "\n",
    "Tokens are often ~4 characters."
   ]
  },
  {
   "cell_type": "code",
   "execution_count": 55,
   "id": "da0bcc05",
   "metadata": {
    "tags": []
   },
   "outputs": [],
   "source": [
    "from langchain.text_splitter import TokenTextSplitter"
   ]
  },
  {
   "cell_type": "code",
   "execution_count": 58,
   "id": "0116b01b-2b0b-47a7-a107-bbc497029713",
   "metadata": {
    "tags": []
   },
   "outputs": [],
   "source": [
    "text_splitter = TokenTextSplitter(chunk_size=1, chunk_overlap=0)"
   ]
  },
  {
   "cell_type": "code",
   "execution_count": 59,
   "id": "07a95e78",
   "metadata": {
    "tags": []
   },
   "outputs": [],
   "source": [
    "text1 = \"foo bar bazzyfoo\""
   ]
  },
  {
   "cell_type": "code",
   "execution_count": 60,
   "id": "8eec0912",
   "metadata": {
    "tags": []
   },
   "outputs": [
    {
     "data": {
      "text/plain": [
       "['foo', ' bar', ' b', 'az', 'zy', 'foo']"
      ]
     },
     "execution_count": 60,
     "metadata": {},
     "output_type": "execute_result"
    }
   ],
   "source": [
    "text_splitter.split_text(text1)"
   ]
  },
  {
   "cell_type": "code",
   "execution_count": 61,
   "id": "ffa29d43",
   "metadata": {
    "tags": []
   },
   "outputs": [],
   "source": [
    "text_splitter = TokenTextSplitter(chunk_size=10, chunk_overlap=0)"
   ]
  },
  {
   "cell_type": "code",
   "execution_count": 62,
   "id": "e53e203a",
   "metadata": {
    "tags": []
   },
   "outputs": [],
   "source": [
    "docs = text_splitter.split_documents(pages)"
   ]
  },
  {
   "cell_type": "code",
   "execution_count": 63,
   "id": "3b186c5f",
   "metadata": {
    "tags": []
   },
   "outputs": [
    {
     "data": {
      "text/plain": [
       "Document(page_content='MachineLearning-Lecture01  \\n', metadata={'source': 'docs/cs229_lectures/MachineLearning-Lecture01.pdf', 'page': 0})"
      ]
     },
     "execution_count": 63,
     "metadata": {},
     "output_type": "execute_result"
    }
   ],
   "source": [
    "docs[0]"
   ]
  },
  {
   "cell_type": "code",
   "execution_count": 64,
   "id": "917f7abc",
   "metadata": {
    "tags": []
   },
   "outputs": [
    {
     "data": {
      "text/plain": [
       "{'source': 'docs/cs229_lectures/MachineLearning-Lecture01.pdf', 'page': 0}"
      ]
     },
     "execution_count": 64,
     "metadata": {},
     "output_type": "execute_result"
    }
   ],
   "source": [
    "pages[0].metadata"
   ]
  },
  {
   "cell_type": "markdown",
   "id": "282d9bfa",
   "metadata": {},
   "source": [
    "## Context aware splitting\n",
    "\n",
    "Chunking aims to keep text with common context together.\n",
    "\n",
    "A text splitting often uses sentences or other delimiters to keep related text together but many documents (such as Markdown) have structure (headers) that can be explicitly used in splitting.\n",
    "\n",
    "We can use `MarkdownHeaderTextSplitter` to preserve header metadata in our chunks, as show below."
   ]
  },
  {
   "cell_type": "code",
   "execution_count": 65,
   "id": "aa3b93d9",
   "metadata": {
    "tags": []
   },
   "outputs": [],
   "source": [
    "from langchain.document_loaders import NotionDirectoryLoader\n",
    "from langchain.text_splitter import MarkdownHeaderTextSplitter"
   ]
  },
  {
   "cell_type": "code",
   "execution_count": 66,
   "id": "d2c73a9c",
   "metadata": {
    "tags": []
   },
   "outputs": [],
   "source": [
    "markdown_document = \"\"\"# Title\\n\\n \\\n",
    "## Chapter 1\\n\\n \\\n",
    "Hi this is Jim\\n\\n Hi this is Joe\\n\\n \\\n",
    "### Section \\n\\n \\\n",
    "Hi this is Lance \\n\\n \n",
    "## Chapter 2\\n\\n \\\n",
    "Hi this is Molly\"\"\""
   ]
  },
  {
   "cell_type": "code",
   "execution_count": 67,
   "id": "eadb7740",
   "metadata": {
    "tags": []
   },
   "outputs": [],
   "source": [
    "headers_to_split_on = [\n",
    "    (\"#\", \"Header 1\"),\n",
    "    (\"##\", \"Header 2\"),\n",
    "    (\"###\", \"Header 3\"),\n",
    "]"
   ]
  },
  {
   "cell_type": "code",
   "execution_count": 68,
   "id": "a789eede",
   "metadata": {
    "tags": []
   },
   "outputs": [],
   "source": [
    "markdown_splitter = MarkdownHeaderTextSplitter(\n",
    "    headers_to_split_on=headers_to_split_on\n",
    ")\n",
    "md_header_splits = markdown_splitter.split_text(markdown_document)"
   ]
  },
  {
   "cell_type": "code",
   "execution_count": 69,
   "id": "27053c17",
   "metadata": {
    "tags": []
   },
   "outputs": [
    {
     "data": {
      "text/plain": [
       "Document(page_content='Hi this is Jim  \\nHi this is Joe', metadata={'Header 1': 'Title', 'Header 2': 'Chapter 1'})"
      ]
     },
     "execution_count": 69,
     "metadata": {},
     "output_type": "execute_result"
    }
   ],
   "source": [
    "md_header_splits[0]"
   ]
  },
  {
   "cell_type": "code",
   "execution_count": 70,
   "id": "a5b6b903",
   "metadata": {
    "tags": []
   },
   "outputs": [
    {
     "data": {
      "text/plain": [
       "Document(page_content='Hi this is Lance', metadata={'Header 1': 'Title', 'Header 2': 'Chapter 1', 'Header 3': 'Section'})"
      ]
     },
     "execution_count": 70,
     "metadata": {},
     "output_type": "execute_result"
    }
   ],
   "source": [
    "md_header_splits[1]"
   ]
  },
  {
   "cell_type": "markdown",
   "id": "8d0c6111",
   "metadata": {},
   "source": [
    "Try on a real Markdown file, like a Notion database."
   ]
  },
  {
   "cell_type": "code",
   "execution_count": 71,
   "id": "b238b16f",
   "metadata": {
    "tags": []
   },
   "outputs": [],
   "source": [
    "loader = NotionDirectoryLoader(\"docs/notiondb\")\n",
    "docs = loader.load()\n",
    "txt = ' '.join([d.page_content for d in docs])"
   ]
  },
  {
   "cell_type": "code",
   "execution_count": 72,
   "id": "9fdab1d4",
   "metadata": {
    "tags": []
   },
   "outputs": [],
   "source": [
    "headers_to_split_on = [\n",
    "    (\"#\", \"Header 1\"),\n",
    "    (\"##\", \"Header 2\"),\n",
    "]\n",
    "markdown_splitter = MarkdownHeaderTextSplitter(\n",
    "    headers_to_split_on=headers_to_split_on\n",
    ")"
   ]
  },
  {
   "cell_type": "code",
   "execution_count": 73,
   "id": "e722c39c",
   "metadata": {
    "tags": []
   },
   "outputs": [],
   "source": [
    "md_header_splits = markdown_splitter.split_text(txt)"
   ]
  },
  {
   "cell_type": "code",
   "execution_count": 74,
   "id": "3f2b6df5",
   "metadata": {
    "tags": []
   },
   "outputs": [
    {
     "data": {
      "text/plain": [
       "Document(page_content=\"It's the **28th of April 2014**, the day Blendle was born. Marten and Alexander expected a few friends and partners to show up in an old warehouse in Amsterdam for their 'launch' party. 30 minutes before the start, the room filled with cameras and reporters. More then enough people were interested to see and hear what they came up with. Even PowNews sent a reporter:  \\n[https://www.notion.so](https://www.notion.so)  \\nA little rewind: in 2011, Marten found himself in a bookstore, a bit frustrated, looking at a magazine (as reenacted beautifully in this picture below). He was frustrated that he had to buy the whole magazine, whereas he only wanted to read one article from it. The first idea for Blendle was born and was called MyMagazine. He started talking to a lot of people in the media world, including Alexander. Alexander wasn't convinced yet.  \\n![History%20c571fa1b05984833aa6d0345228048f6/marten.jpg](History%20c571fa1b05984833aa6d0345228048f6/marten.jpg)  \\nIn **mid-2012**, Marten asked Jort to make the first sketches and wireframes.  \\n**June 2012**, these are the first sketches of Blendle:  \\n![History%20c571fa1b05984833aa6d0345228048f6/Schetsen-van-juni-2012-960x698.png](History%20c571fa1b05984833aa6d0345228048f6/Schetsen-van-juni-2012-960x698.png)  \\n![History%20c571fa1b05984833aa6d0345228048f6/screenshot-trending-960x513.png](History%20c571fa1b05984833aa6d0345228048f6/screenshot-trending-960x513.png)  \\nAlexander and Marten stay in touch and, after seeing the first sketches, Alexander sees the potential and decides to join. Together they have an 'office' in the staircase of the science centre Nemo in Amsterdam. With the prototypes and Alexander on board, the conversations with the publishers actually start to get interesting. Alexander and Marten take all the feedback and criticism from the publishers back to their 'office' and keep improving the product.  \\nIn **September 2013,** Blendle received ****100,000 euros from a fund for innovation in journalism.  \\n**5 September 2013:** First announcement of Blendle in the Dutch TV show DWDD:  \\n[https://www.notion.so](https://www.notion.so)  \\n**28 April 2014:** Launch in NL  \\nIn the meantime, Blendle got an office upgrade and moved to the Jaarbeurs in the beautiful Utrecht. It looks small in the picture below. It was.  \\n![History%20c571fa1b05984833aa6d0345228048f6/jaarbeurs.jpg](History%20c571fa1b05984833aa6d0345228048f6/jaarbeurs.jpg)  \\nOn **October 26 2014** Blendle announces a ****3 million Investment from Axel Springer and The New York Times. A pretty big deal for us.  \\nHere’s the press release from Alexander:  [https://medium.com/on-blendle/today-our-journalistic-startup-got-backed-by-the-new-york-times-and-axel-springer-8857c70832e4](https://medium.com/on-blendle/today-our-journalistic-startup-got-backed-by-the-new-york-times-and-axel-springer-8857c70832e4)  \\nRTL interviewed Alex at the office in the Jaarbeurs:  \\n[https://www.notion.so](https://www.notion.so)  \\n**12 March 2015:** The New York Times, Wall Street Journal and the Washington Post are in:  \\n[http://www.businessinsider.com/the-new-york-times-wall-street-journal-the-washington-post-sign-up-to-blendle-2015-3?international=true&r=US&IR=T](http://www.businessinsider.com/the-new-york-times-wall-street-journal-the-washington-post-sign-up-to-blendle-2015-3?international=true&r=US&IR=T)  \\n**12 September 2015**: Blendle DE goes live  \\nMarten announcing the launch: [https://medium.com/on-blendle/after-successful-test-blendle-deutschland-to-go-live-in-two-weeks-ffc02a813aa8](https://medium.com/on-blendle/after-successful-test-blendle-deutschland-to-go-live-in-two-weeks-ffc02a813aa8)  \\nMarten - in German - about the launch; [https://medium.com/zu-blendle/artikel-kiosk-blendle-ist-jetzt-in-deutschland-live-cd8aa855a9d9](https://medium.com/zu-blendle/artikel-kiosk-blendle-ist-jetzt-in-deutschland-live-cd8aa855a9d9)  \\n**10 December 2015**: We announce our beta in the US of A.  \\n[https://medium.com/zu-blendle/europe-s-favorite-journalism-startup-is-coming-to-america-206daa9c912d](https://medium.com/zu-blendle/europe-s-favorite-journalism-startup-is-coming-to-america-206daa9c912d)  \\n[http://www.poynter.org/2015/blendle-the-dutch-itunes-for-news-will-launch-in-the-u-s-early-next-year/388353/](http://www.poynter.org/2015/blendle-the-dutch-itunes-for-news-will-launch-in-the-u-s-early-next-year/388353/)  \\n**1 March 2016:** Launch of native android app  \\nWe did a PR thingy (which worked really well): 24h beta. [https://androidworld.nl/apps/blendle-beta-applicatie-24-uur-lang-te-downloaden/](https://androidworld.nl/apps/blendle-beta-applicatie-24-uur-lang-te-downloaden/)  \\n[https://androidworld.nl/apps/blendle-android-officieel/](https://androidworld.nl/apps/blendle-android-officieel/)  \\n[https://www.bright.nl/app-van-de-week/app-van-de-week-blendle-voor-android](https://www.bright.nl/app-van-de-week/app-van-de-week-blendle-voor-android)  \\n[https://www.villamedia.nl/artikel/blendle-lanceert-android-app](https://www.villamedia.nl/artikel/blendle-lanceert-android-app)  \\n[https://play.google.com/store/apps/details?id=com.blendle.app&hl=nl](https://play.google.com/store/apps/details?id=com.blendle.app&hl=nl)  \\n**23 March 2016 US BETA Launch**:  \\n[https://www.notion.so](https://www.notion.so)  \\nWall Street Journal item:  \\n[https://www.youtube.com/watch?v=ywSsQIOj99c&t=3s](https://www.youtube.com/watch?v=ywSsQIOj99c&t=3s)  \\nFOX: [https://www.youtube.com/watch?v=ljw0icGxF1g](https://www.youtube.com/watch?v=ljw0icGxF1g)  \\n[http://www.nu.nl/internet/4235416/blendle-lanceert-betaversie-in-verenigde-staten.html](http://www.nu.nl/internet/4235416/blendle-lanceert-betaversie-in-verenigde-staten.html)  \\n**August 2016:** 1 million people have a Blendle account:  \\n[https://medium.com/on-blendle/one-million-6390860c2a34](https://medium.com/on-blendle/one-million-6390860c2a34)  \\n**December 2016:** Christmas Party  \\n![History%20c571fa1b05984833aa6d0345228048f6/Blendlegroupphoto3.jpg](History%20c571fa1b05984833aa6d0345228048f6/Blendlegroupphoto3.jpg)  \\n**12 January 2017**: Launch of Premium:  \\nAlexander announching the launch: [https://medium.com/@AlexanderNL/we-hebben-het-afgelopen-jaar-in-het-geheim-toegewerkt-naar-dit-moment-vandaag-lanceren-we-blendle-5b10959803a5](https://medium.com/@AlexanderNL/we-hebben-het-afgelopen-jaar-in-het-geheim-toegewerkt-naar-dit-moment-vandaag-lanceren-we-blendle-5b10959803a5)  \\n![History%20c571fa1b05984833aa6d0345228048f6/Schermafbeelding_2017-05-17_om_14.57.40.png](History%20c571fa1b05984833aa6d0345228048f6/Schermafbeelding_2017-05-17_om_14.57.40.png)  \\nVarious platforms report on Premium  \\n[https://tweakers.net/nieuws/119971/blendle-biedt-abonnementsvorm-met-selectie-artikelen-voor-tien-euro-per-maand.html](https://tweakers.net/nieuws/119971/blendle-biedt-abonnementsvorm-met-selectie-artikelen-voor-tien-euro-per-maand.html)  \\nRick's vlog that day:  \\n[https://www.notion.so](https://www.notion.so)  \\nIn this vlog, Rick explains what Premium is: [https://www.youtube.com/watch?v=15gbuy7fkTE](https://www.youtube.com/watch?v=15gbuy7fkTE)  \\nThe gif that was put in the app:  \\n[History%20c571fa1b05984833aa6d0345228048f6/M4G7VOqrMT-OrKvtlaYOrLXfDwgRC8C4cIycQAg6qHcH9TXwCIf5M7PIeB_yJPMA.mp4](History%20c571fa1b05984833aa6d0345228048f6/M4G7VOqrMT-OrKvtlaYOrLXfDwgRC8C4cIycQAg6qHcH9TXwCIf5M7PIeB_yJPMA.mp4)  \\n**6 April 2017:** Nikkei (Financial Times) and INKEF Capital invest in Blendle:  \\n[http://www.poynter.org/2017/blendle-the-dutch-itunes-for-news-lands-investment-from-financial-times-owner-nikkei/453341/](http://www.poynter.org/2017/blendle-the-dutch-itunes-for-news-lands-investment-from-financial-times-owner-nikkei/453341/)  \\n[http://www.nu.nl/internet/4599873/eigenaar-financial-times-investeert-in-digitale-kiosk-blendle.html](http://www.nu.nl/internet/4599873/eigenaar-financial-times-investeert-in-digitale-kiosk-blendle.html)  \\n[https://startupjuncture.com/2017/04/07/financial-times-invests-blendle/](https://startupjuncture.com/2017/04/07/financial-times-invests-blendle/)  \\n[http://www.quotenet.nl/Nieuws/Blendle-haalt-nieuw-groeigeld-op-bij-Inkef-Capital-en-mediaconcern-Nikkei-194454](http://www.quotenet.nl/Nieuws/Blendle-haalt-nieuw-groeigeld-op-bij-Inkef-Capital-en-mediaconcern-Nikkei-194454)  \\n**April 2017:** Blankie steps back  \\n[http://blog.blendle.io/post/159268405976/naast-zakelijk-nieuws-we-hebben-bij-blendle-weer](http://blog.blendle.io/post/159268405976/naast-zakelijk-nieuws-we-hebben-bij-blendle-weer)  \\n[https://www.businessinsider.nl/oprichter-marten-blankesteijn-verlaat-blendle-ik-word-dit-jaar-vader/](https://www.businessinsider.nl/oprichter-marten-blankesteijn-verlaat-blendle-ik-word-dit-jaar-vader/)  \\n**Summer 2017:** Slimming down  \\n[https://www.emerce.nl/nieuws/blendle-slankt-af](https://www.emerce.nl/nieuws/blendle-slankt-af)  \\n![History%20c571fa1b05984833aa6d0345228048f6/Schermafbeelding2018-06-19om09.52.45.png](History%20c571fa1b05984833aa6d0345228048f6/Schermafbeelding2018-06-19om09.52.45.png)  \\n**September 2017:** Work and surf trip to Morocco  \\n![History%20c571fa1b05984833aa6d0345228048f6/workandsurftripmaroc.jpg](History%20c571fa1b05984833aa6d0345228048f6/workandsurftripmaroc.jpg)  \\n**Q3 and Q4 2017:** Working hard on improving the product  \\n**11th January 2018:** Audio Launch  \\nAlexander explaining Blendle Audio (dutch):  \\n[https://youtu.be/D3QtwXbTPGo](https://youtu.be/D3QtwXbTPGo)  \\nBehind the scenes:  \\n![History%20c571fa1b05984833aa6d0345228048f6/audio3.jpg](History%20c571fa1b05984833aa6d0345228048f6/audio3.jpg)  \\nJeroen in the first 'studio', saying Hey *FNAME* 500 times.  \\n![History%20c571fa1b05984833aa6d0345228048f6/audio1.jpg](History%20c571fa1b05984833aa6d0345228048f6/audio1.jpg)  \\n**February 2018:** Good numbers:  \\n[https://medium.com/@AlexanderNL/gebruik-van-blendle-groeide-71-in-2017-blendle-start-eerste-grote-reclamecampagne-bfacb326ef84](https://medium.com/@AlexanderNL/gebruik-van-blendle-groeide-71-in-2017-blendle-start-eerste-grote-reclamecampagne-bfacb326ef84)  \\n**February 2018:** First big marketing campaign  \\nCommercial:  \\n[https://www.youtube.com/watch?v=H0snvmuXDVc](https://www.youtube.com/watch?v=H0snvmuXDVc)  \\nAbri (outdoor) campaign:  \\n**March 2018:** Weekend in Terschelling.  \\n![History%20c571fa1b05984833aa6d0345228048f6/weekendje.jpg](History%20c571fa1b05984833aa6d0345228048f6/weekendje.jpg)  \\n**May 2018:** 4 million euro investment:  \\n[https://medium.com/@AlexanderNL/investering-van-4-miljoen-voor-blendle-a927b9bca4ef](https://medium.com/@AlexanderNL/investering-van-4-miljoen-voor-blendle-a927b9bca4ef)  \\n[https://www.businessinsider.nl/blendle-alexander-klopping-investering-morten-strunge/](https://www.businessinsider.nl/blendle-alexander-klopping-investering-morten-strunge/)  \\n————-  \\nUvNL en gouden pen  \\n[http://www.nu.nl/media/4232234/laatste-interview-joost-zwagerman-meest-gelezen-blendle-in-2015.html](http://www.nu.nl/media/4232234/laatste-interview-joost-zwagerman-meest-gelezen-blendle-in-2015.html)  \\n[http://nos.nl/artikel/2022756-journalist-olaf-koens-wint-gouden-pen-voor-artikel-mh17.html](http://nos.nl/artikel/2022756-journalist-olaf-koens-wint-gouden-pen-voor-artikel-mh17.html)  \\nBlendle Trending Live: [https://medium.com/on-blendle/blendle-trending-design-details-61c5c64ac6aa](https://medium.com/on-blendle/blendle-trending-design-details-61c5c64ac6aa)  \\nLaunch of native iOS app  \\nDE Launch:\\nMarten on the launch: [https://medium.com/on-blendle/pay-per-story-platform-blendle-goes-live-in-germany-37b53dbf360b](https://medium.com/on-blendle/pay-per-story-platform-blendle-goes-live-in-germany-37b53dbf360b)  \\n**Awards/prices/praise**  \\nDutch Design Awards  \\n[https://www.dutchdesignawards.nl/nl/gallery/service-systems/blendle/](https://www.dutchdesignawards.nl/nl/gallery/service-systems/blendle/)  \\nMercur d'Or 2016:  \\n[https://www.youtube.com/watch?v=DrJkY1oD_as](https://www.youtube.com/watch?v=DrJkY1oD_as)  \\niCulture award 2014 (iOS, Blendle Trending): 1st place Best Newcomer 2014: [http://www.adformatie.nl/nieuws/iculture-awards-2014-voor-de-beste-apps-van-2014-bekend](http://www.adformatie.nl/nieuws/iculture-awards-2014-voor-de-beste-apps-van-2014-bekend) and [https://www.iculture.nl/iculture-awards/2014-awards/](https://www.iculture.nl/iculture-awards/2014-awards/)  \\niCulture award 2015 (iOS, Blendle Trending): 3rd place for Best Dutch App: [https://www.iculture.nl/iculture-awards/2015-awards/#beste_nl2015](https://www.iculture.nl/iculture-awards/2015-awards/#beste_nl2015)  \\niCulture award 2016 (iOS, Blendle app): 1st place Best Dutch App 2016: [https://www.iculture.nl/iculture-awards/#beste_nl2016](https://www.iculture.nl/iculture-awards/#beste_nl2016)  \\n2016: Game Changer Award: [https://www.ecommercenews.nl/thuiswinkel-awards-2016-bolcom-beste-webwinkel/](https://www.ecommercenews.nl/thuiswinkel-awards-2016-bolcom-beste-webwinkel/) and [http://m.thuiswinkelawards.nl/nl/wat-kan-ik-winnen/vakprijs-game-changer-award](http://m.thuiswinkelawards.nl/nl/wat-kan-ik-winnen/vakprijs-game-changer-award)  \\n**Talks by Blendle people:**  \\nKoen Bollen on the Architecture  \\n[https://www.youtube.com/watch?v=oid1raHVjoQ](https://www.youtube.com/watch?v=oid1raHVjoQ)  \\nKoen Bollen on Kubernetes (our current infrastructure)  \\n[https://www.youtube.com/watch?v=-Ypxg7tlYCI](https://www.youtube.com/watch?v=-Ypxg7tlYCI)  \\nJeffrey on Data behind Headlines:  \\n[https://www.youtube.com/watch?v=WgGhLfRTTwc](https://www.youtube.com/watch?v=WgGhLfRTTwc)  \\nEric on Building smooth and responsive UI with Texture  \\n[https://www.youtube.com/watch?v=XA_NkUbu9WA](https://www.youtube.com/watch?v=XA_NkUbu9WA)  \\n**Nice partnerships**  \\nNS  \\nVodafone  \\n**Funny/cool/interesting articles/vids/pics**  \\nFrederic Filloux from Monday Note: [https://mondaynote.com/blendle-is-up-to-something-big-568d82e249d](https://mondaynote.com/blendle-is-up-to-something-big-568d82e249d)  \\n[https://nieuwejournalistiek.nl/startup-blendle/2015/02/06/ze-komen-in-onze-kranten-knippen/](https://nieuwejournalistiek.nl/startup-blendle/2015/02/06/ze-komen-in-onze-kranten-knippen/)  \\nAlexander after 1 year live in NL: [https://medium.com/on-blendle/blendle-a-radical-experiment-with-micropayments-in-journalism-365-days-later-f3b799022edc](https://medium.com/on-blendle/blendle-a-radical-experiment-with-micropayments-in-journalism-365-days-later-f3b799022edc) and in german: [https://medium.com/zu-blendle/blendle-7c5f55c75c3d](https://medium.com/zu-blendle/blendle-7c5f55c75c3d)  \\nJarjour on what happens when he asked the germans to pay for journalism: [https://medium.com/zu-blendle/zwei-charts-wie-keine-anderen-oder-was-passiert-wenn-man-menschen-f%C3%BCr-journalismus-um-geld-86973e2403e7](https://medium.com/zu-blendle/zwei-charts-wie-keine-anderen-oder-was-passiert-wenn-man-menschen-f%C3%BCr-journalismus-um-geld-86973e2403e7)  \\nMarten, on the fact that Germany is doing well: [https://medium.com/zu-blendle/artikel-kiosk-blendle-w%C3%A4chst-in-deutschland-viermal-schneller-als-in-holland-6abd949935a8](https://medium.com/zu-blendle/artikel-kiosk-blendle-w%C3%A4chst-in-deutschland-viermal-schneller-als-in-holland-6abd949935a8)  \\nJort in 2014 on how we designed the iTunes of journalism: [https://medium.com/@jortdevries/how-we-designed-the-itunes-of-journalism-46bf61c9e603](https://medium.com/@jortdevries/how-we-designed-the-itunes-of-journalism-46bf61c9e603)  \\nTNW conference: [https://www.youtube.com/watch?v=qDaT8SEBPG0](https://www.youtube.com/watch?v=qDaT8SEBPG0)  \\nDit is Blendle vid NL: [https://www.youtube.com/watch?v=UZj58jnBz1A](https://www.youtube.com/watch?v=UZj58jnBz1A)  \\nDas ist Blendle vid DE: [https://www.youtube.com/watch?v=srblsKNceuk](https://www.youtube.com/watch?v=srblsKNceuk)  \\nDWDD micropayments: [https://www.youtube.com/watch?v=oid1raHVjoQ](https://www.youtube.com/watch?v=oid1raHVjoQ)  \\nRTL nieuws investment: [https://www.youtube.com/watch?v=3q3vVKIq6Lk](https://www.youtube.com/watch?v=3q3vVKIq6Lk)  \\nGeenStijl reportage bij launch: [https://www.youtube.com/watch?v=fEGmkpF57a0](https://www.youtube.com/watch?v=fEGmkpF57a0)  \\nHaat berichtjes:  \\n[http://www.adformatie.nl/blog/zeepbel-blendle-loopt-leeg](http://www.adformatie.nl/blog/zeepbel-blendle-loopt-leeg) (dutch)  \\nVertrek NRC  \\n[http://daskapital.nl/2017/03/luidt_nrc_het_einde_van_blendl.html](http://daskapital.nl/2017/03/luidt_nrc_het_einde_van_blendl.html) (dutch)  \\n[https://www.nrc.nl/nieuws/2017/03/07/waarom-nrc-stopt-met-blendle-a1549164](https://www.nrc.nl/nieuws/2017/03/07/waarom-nrc-stopt-met-blendle-a1549164) (dutch)  \\n[http://www.quotenet.nl/Nieuws/Dit-is-waarom-Quote-anders-dan-NRC-wel-bij-Blendle-blijft-192789](http://www.quotenet.nl/Nieuws/Dit-is-waarom-Quote-anders-dan-NRC-wel-bij-Blendle-blijft-192789)  \\n[https://speld.nl/2017/03/08/nrc-stopt-blendle-gemakkelijk-omzeilen-betaalmuur-is-toekomst/](https://speld.nl/2017/03/08/nrc-stopt-blendle-gemakkelijk-omzeilen-betaalmuur-is-toekomst/)  \\n**General sources:**  \\n[http://blog.blendle.io/archive](http://blog.blendle.io/archive)  \\n[https://nieuwejournalistiek.nl/startup-blendle/](https://nieuwejournalistiek.nl/startup-blendle/) (dutch)  \\n---\", metadata={'Header 1': 'History'})"
      ]
     },
     "execution_count": 74,
     "metadata": {},
     "output_type": "execute_result"
    }
   ],
   "source": [
    "md_header_splits[0]"
   ]
  },
  {
   "cell_type": "code",
   "execution_count": null,
   "id": "9f97c85a-78e8-4c63-bd45-ce585e26b63a",
   "metadata": {},
   "outputs": [],
   "source": []
  }
 ],
 "metadata": {
  "kernelspec": {
   "display_name": "Rag_kernel",
   "language": "python",
   "name": "rag_app"
  },
  "language_info": {
   "codemirror_mode": {
    "name": "ipython",
    "version": 3
   },
   "file_extension": ".py",
   "mimetype": "text/x-python",
   "name": "python",
   "nbconvert_exporter": "python",
   "pygments_lexer": "ipython3",
   "version": "3.10.14"
  }
 },
 "nbformat": 4,
 "nbformat_minor": 5
}
